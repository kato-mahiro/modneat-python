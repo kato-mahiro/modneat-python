{
 "cells": [
  {
   "cell_type": "code",
   "execution_count": 45,
   "id": "5ce371e2",
   "metadata": {},
   "outputs": [
    {
     "name": "stdout",
     "output_type": "stream",
     "text": [
      "[]\n",
      "['']\n",
      "['./configs/modexhebb_genome.ini']\n",
      "['rate_of_changeが-0.3~0.3の設定.二次学習的な興味深い個体が生じる？']\n",
      "[]\n",
      "['ModExHebbFFN']\n",
      "[]\n",
      "[]\n",
      "['./results']\n",
      "['test_learning']\n",
      "### settings: {'checkpoint_interval': '10', 'checkpoint_load': '', 'config': './configs/modexhebb_genome.ini', 'description': 'rate_of_changeが-0.3~0.3の設定.二次学習的な興味深い個体が生じる？', 'generation': '1000', 'network': 'ModExHebbFFN', 'num_workers': '0', 'run_id': '201', 'savedir': './results', 'task': 'test_learning'}\n"
     ]
    },
    {
     "data": {
      "application/vnd.jupyter.widget-view+json": {
       "model_id": "12efe2999fc34287a804867369e5fa76",
       "version_major": 2,
       "version_minor": 0
      },
      "text/plain": [
       "Dropdown(description='Select a checkpoint:', options=('checkpoint-9', 'checkpoint-19', 'checkpoint-29', 'check…"
      ]
     },
     "metadata": {},
     "output_type": "display_data"
    },
    {
     "name": "stdout",
     "output_type": "stream",
     "text": [
      "Selected checkpoint: checkpoint-59\n"
     ]
    }
   ],
   "source": [
    "import sys\n",
    "import os\n",
    "from pathlib import Path\n",
    "import matplotlib.pyplot as plt\n",
    "import pandas as pd\n",
    "import seaborn as sns\n",
    "import re\n",
    "import ipywidgets as widgets\n",
    "from IPython.display import display\n",
    "# The NEAT-Python library imports\n",
    "import modneat\n",
    "from modneat import visualize\n",
    "# import task\n",
    "current_dir = str(Path().resolve())\n",
    "sys.path.append(os.path.join(current_dir, '..'))\n",
    "import settings.task as task\n",
    "\n",
    "#load experiment settings\n",
    "setting_path = \"../settings/command\"\n",
    "with open(setting_path) as f:\n",
    "    settings = f.read()\n",
    "matches=re.findall(r'(\\w+)=(\\S+)', settings) #キーと値のペアを取得\n",
    "tmp_dict = {key: value for key, value in matches}\n",
    "# dict itemのうち、\"'something'\" のような文字列を 'something' に変換\n",
    "experiment_settings = {}\n",
    "for key, value in tmp_dict.items():\n",
    "    after = re.findall(r'[\"\\'](.*?)[\"\\']', value)\n",
    "    print(after)\n",
    "    if(len(after) == 0):\n",
    "        experiment_settings[key] = value\n",
    "    else:\n",
    "        experiment_settings[key] = after[0]\n",
    "print('### settings:',experiment_settings)\n",
    "\n",
    "#load checkpoint\n",
    "checkpoints_path = '../checkpoints/'\n",
    "checkpoints = os.listdir(checkpoints_path)\n",
    "sorted_checkpoints = sorted(checkpoints, key=lambda x: int(x.split('-')[1]))\n",
    "\n",
    "# 選択メニュー用のウィジェットを作成\n",
    "dropdown = widgets.Dropdown(\n",
    "    options=sorted_checkpoints,  # リストから選択肢を指定\n",
    "    description='Select a checkpoint:',\n",
    "    disabled=False,\n",
    ")\n",
    "\n",
    "global selected_checkpoint\n",
    "selected_checkpoint = sorted_checkpoints[0]\n",
    "\n",
    "# 選択メニューの値が変更されたときに実行される関数\n",
    "def on_change(change):\n",
    "    global selected_checkpoint\n",
    "    if change['type'] == 'change' and change['name'] == 'value':\n",
    "        selected_checkpoint = change['new']\n",
    "        print(f\"Selected checkpoint: {selected_checkpoint}\")\n",
    "\n",
    "# 選択メニューの値が変更されたときに on_change 関数を呼び出す\n",
    "dropdown.observe(on_change)\n",
    "\n",
    "# ウィジェットを表示\n",
    "display(dropdown)"
   ]
  },
  {
   "cell_type": "code",
   "execution_count": 46,
   "id": "a6e08017",
   "metadata": {},
   "outputs": [
    {
     "name": "stdout",
     "output_type": "stream",
     "text": [
      "{'checkpoint_interval': '10', 'checkpoint_load': '', 'config': './configs/modexhebb_genome.ini', 'description': 'rate_of_changeが-0.3~0.3の設定.二次学習的な興味深い個体が生じる？', 'generation': '1000', 'network': 'ModExHebbFFN', 'num_workers': '0', 'run_id': '201', 'savedir': './results', 'task': 'test_learning'}\n",
      "checkpoint-59\n"
     ]
    }
   ],
   "source": [
    "print(experiment_settings)\n",
    "print(selected_checkpoint)"
   ]
  },
  {
   "cell_type": "code",
   "execution_count": 50,
   "id": "11e77352",
   "metadata": {},
   "outputs": [
    {
     "name": "stdout",
     "output_type": "stream",
     "text": [
      "test_learning\n"
     ]
    },
    {
     "ename": "AttributeError",
     "evalue": "module 'settings.task' has no attribute 'eval'",
     "output_type": "error",
     "traceback": [
      "\u001b[0;31m---------------------------------------------------------------------------\u001b[0m",
      "\u001b[0;31mAttributeError\u001b[0m                            Traceback (most recent call last)",
      "\u001b[1;32m/Users/mahiro/Project/modneat-python/tmp_test_learning/results/test_learning_ModExHebbFFN_201-20230927-210233/reports/investigate_behaviour.ipynb セル 3\u001b[0m line \u001b[0;36m4\n\u001b[1;32m      <a href='vscode-notebook-cell:/Users/mahiro/Project/modneat-python/tmp_test_learning/results/test_learning_ModExHebbFFN_201-20230927-210233/reports/investigate_behaviour.ipynb#X23sZmlsZQ%3D%3D?line=1'>2</a>\u001b[0m task_name \u001b[39m=\u001b[39m experiment_settings[\u001b[39m'\u001b[39m\u001b[39mtask\u001b[39m\u001b[39m'\u001b[39m]\n\u001b[1;32m      <a href='vscode-notebook-cell:/Users/mahiro/Project/modneat-python/tmp_test_learning/results/test_learning_ModExHebbFFN_201-20230927-210233/reports/investigate_behaviour.ipynb#X23sZmlsZQ%3D%3D?line=2'>3</a>\u001b[0m \u001b[39mprint\u001b[39m(task_name)\n\u001b[0;32m----> <a href='vscode-notebook-cell:/Users/mahiro/Project/modneat-python/tmp_test_learning/results/test_learning_ModExHebbFFN_201-20230927-210233/reports/investigate_behaviour.ipynb#X23sZmlsZQ%3D%3D?line=3'>4</a>\u001b[0m t \u001b[39m=\u001b[39m task\u001b[39m.\u001b[39;49meval(task_name)\n",
      "\u001b[0;31mAttributeError\u001b[0m: module 'settings.task' has no attribute 'eval'"
     ]
    }
   ],
   "source": [
    "p = modneat.Checkpointer.restore_checkpoint(os.path.join('../checkpoints', selected_checkpoint))\n",
    "task_name = experiment_settings['task']\n",
    "print(task_name)\n",
    "t = eval('task' + task_name)"
   ]
  },
  {
   "cell_type": "code",
   "execution_count": 2,
   "id": "1d261d92",
   "metadata": {},
   "outputs": [],
   "source": [
    "p = modneat.Checkpointer.restore_checkpoint('../results/task.non_static_ModIndExHebbFFN_0/checkpoints/checkpoint-99')\n",
    "t = task.non_static(network_type = modneat.nn.ModIndExHebbFFN)"
   ]
  },
  {
   "cell_type": "code",
   "execution_count": 3,
   "id": "22663c8a",
   "metadata": {},
   "outputs": [
    {
     "name": "stdout",
     "output_type": "stream",
     "text": [
      "Mean genetic distance 2.467, standard deviation 0.671\n",
      "*** [WARNING] FileOutputReporter couldn't find a savepath ./results/task.non_static_ModIndExHebbFFN_0/results.txt\n",
      "*** 5\n"
     ]
    }
   ],
   "source": [
    "best_genome = p.run(t.eval_genomes, 1)\n",
    "\n",
    "net = modneat.nn.ModIndExHebbFFN.create(best_genome, p.config)\n",
    "fitness, log = t.eval_fitness(net, history_log = True)"
   ]
  },
  {
   "cell_type": "code",
   "execution_count": 4,
   "id": "7d8df317",
   "metadata": {},
   "outputs": [
    {
     "data": {
      "image/svg+xml": [
       "<?xml version=\"1.0\" encoding=\"UTF-8\" standalone=\"no\"?>\n",
       "<!DOCTYPE svg PUBLIC \"-//W3C//DTD SVG 1.1//EN\"\n",
       " \"http://www.w3.org/Graphics/SVG/1.1/DTD/svg11.dtd\">\n",
       "<!-- Generated by graphviz version 2.43.0 (0)\n",
       " -->\n",
       "<!-- Title: %3 Pages: 1 -->\n",
       "<svg width=\"81pt\" height=\"149pt\"\n",
       " viewBox=\"0.00 0.00 81.26 148.53\" xmlns=\"http://www.w3.org/2000/svg\" xmlns:xlink=\"http://www.w3.org/1999/xlink\">\n",
       "<g id=\"graph0\" class=\"graph\" transform=\"scale(1 1) rotate(0) translate(4 144.53)\">\n",
       "<title>%3</title>\n",
       "<polygon fill=\"white\" stroke=\"transparent\" points=\"-4,4 -4,-144.53 77.26,-144.53 77.26,4 -4,4\"/>\n",
       "<!-- &#45;1 -->\n",
       "<g id=\"node1\" class=\"node\">\n",
       "<title>&#45;1</title>\n",
       "<polygon fill=\"lightgray\" stroke=\"black\" points=\"29.26,-140.53 3.26,-140.53 3.26,-122.53 29.26,-122.53 29.26,-140.53\"/>\n",
       "<text text-anchor=\"middle\" x=\"16.26\" y=\"-129.33\" font-family=\"Times,serif\" font-size=\"9.00\">&#45;1</text>\n",
       "</g>\n",
       "<!-- 0 -->\n",
       "<g id=\"node3\" class=\"node\">\n",
       "<title>0</title>\n",
       "<ellipse fill=\"lightblue\" stroke=\"black\" cx=\"16.26\" cy=\"-16.26\" rx=\"16.03\" ry=\"16.03\"/>\n",
       "<text text-anchor=\"middle\" x=\"16.26\" y=\"-14.06\" font-family=\"Times,serif\" font-size=\"9.00\">0</text>\n",
       "</g>\n",
       "<!-- &#45;1&#45;&gt;0 -->\n",
       "<g id=\"edge1\" class=\"edge\">\n",
       "<title>&#45;1&#45;&gt;0</title>\n",
       "<path fill=\"none\" stroke=\"green\" stroke-width=\"0.18\" d=\"M16.02,-122.42C15.78,-113.59 15.41,-99.06 15.26,-86.53 15.1,-72.06 15.31,-55.89 15.58,-42.82\"/>\n",
       "<polygon fill=\"green\" stroke=\"green\" stroke-width=\"0.18\" points=\"19.08,-42.75 15.81,-32.67 12.08,-42.59 19.08,-42.75\"/>\n",
       "</g>\n",
       "<!-- 31 -->\n",
       "<g id=\"node4\" class=\"node\">\n",
       "<title>31</title>\n",
       "<polygon fill=\"white\" stroke=\"black\" points=\"52.76,-86.53 23.76,-86.53 23.76,-68.53 52.76,-68.53 52.76,-86.53\"/>\n",
       "<text text-anchor=\"middle\" x=\"38.26\" y=\"-75.33\" font-family=\"Times,serif\" font-size=\"9.00\">31</text>\n",
       "</g>\n",
       "<!-- &#45;1&#45;&gt;31 -->\n",
       "<g id=\"edge3\" class=\"edge\">\n",
       "<title>&#45;1&#45;&gt;31</title>\n",
       "<path fill=\"none\" stroke=\"green\" stroke-width=\"0.23\" d=\"M19.7,-122.4C22.65,-115.42 27.02,-105.11 30.77,-96.24\"/>\n",
       "<polygon fill=\"green\" stroke=\"green\" stroke-width=\"0.23\" points=\"34.1,-97.34 34.78,-86.77 27.66,-94.61 34.1,-97.34\"/>\n",
       "</g>\n",
       "<!-- &#45;2 -->\n",
       "<g id=\"node2\" class=\"node\">\n",
       "<title>&#45;2</title>\n",
       "<polygon fill=\"lightgray\" stroke=\"black\" points=\"73.26,-140.53 47.26,-140.53 47.26,-122.53 73.26,-122.53 73.26,-140.53\"/>\n",
       "<text text-anchor=\"middle\" x=\"60.26\" y=\"-129.33\" font-family=\"Times,serif\" font-size=\"9.00\">&#45;2</text>\n",
       "</g>\n",
       "<!-- 31&#45;&gt;0 -->\n",
       "<g id=\"edge2\" class=\"edge\">\n",
       "<title>31&#45;&gt;0</title>\n",
       "<path fill=\"none\" stroke=\"red\" stroke-width=\"0.19\" d=\"M35.2,-68.29C32.61,-61.3 28.76,-50.91 25.2,-41.33\"/>\n",
       "<polygon fill=\"red\" stroke=\"red\" stroke-width=\"0.19\" points=\"28.43,-39.97 21.67,-31.82 21.87,-42.41 28.43,-39.97\"/>\n",
       "</g>\n",
       "</g>\n",
       "</svg>\n"
      ],
      "text/plain": [
       "<graphviz.graphs.Digraph at 0x149e5bed6880>"
      ]
     },
     "execution_count": 4,
     "metadata": {},
     "output_type": "execute_result"
    }
   ],
   "source": [
    "modneat.visualize.draw_net(p.config, best_genome, show_disabled=False)"
   ]
  },
  {
   "cell_type": "code",
   "execution_count": 8,
   "id": "4590c816",
   "metadata": {},
   "outputs": [
    {
     "data": {
      "text/plain": [
       "<AxesSubplot:xlabel='node_id', ylabel='step'>"
      ]
     },
     "execution_count": 8,
     "metadata": {},
     "output_type": "execute_result"
    },
    {
     "data": {
      "image/png": "[encoded data removed]",
      "text/plain": [
       "<Figure size 432x288 with 2 Axes>"
      ]
     },
     "metadata": {
      "needs_background": "light"
     },
     "output_type": "display_data"
    }
   ],
   "source": [
    "#各ノードの活性化値の可視化\n",
    "\n",
    "cols = ['step', 'node_id', 'values']\n",
    "df = pd.DataFrame(index=[], columns = cols)\n",
    "\n",
    "\n",
    "hist = [items['values'] for items in log]\n",
    "\n",
    "step = 0\n",
    "for values in hist:\n",
    "    \n",
    "    for i in values.items():\n",
    "        record = pd.Series([step, i[0], i[1]], index=df.columns)\n",
    "        df = df.append(record, ignore_index=True)\n",
    "    step += 1\n",
    "\n",
    "df['step'] = df['step'].astype(int)\n",
    "df['node_id'] = df['node_id'].astype(int)\n",
    "\n",
    "df_pivot = pd.pivot_table(data = df, values='values', columns='node_id', index='step')\n",
    "sns.heatmap(df_pivot, annot=True, fmt='g', linewidth=.5)"
   ]
  },
  {
   "cell_type": "code",
   "execution_count": 13,
   "id": "bfe51768",
   "metadata": {},
   "outputs": [
    {
     "data": {
      "text/plain": [
       "<AxesSubplot:xlabel='node_id', ylabel='step'>"
      ]
     },
     "execution_count": 13,
     "metadata": {},
     "output_type": "execute_result"
    },
    {
     "data": {
      "image/png": "[encoded data removed]",
      "text/plain": [
       "<Figure size 432x288 with 2 Axes>"
      ]
     },
     "metadata": {
      "needs_background": "light"
     },
     "output_type": "display_data"
    }
   ],
   "source": [
    "#各ノードの修飾値の可視化\n",
    "\n",
    "cols = ['step', 'node_id', 'mod_values']\n",
    "df = pd.DataFrame(index=[], columns = cols)\n",
    "\n",
    "\n",
    "hist = [items['modulate_values'] for items in log]\n",
    "\n",
    "step = 0\n",
    "for values in hist:\n",
    "    \n",
    "    for i in values.items():\n",
    "        record = pd.Series([step, i[0], i[1]], index=df.columns)\n",
    "        df = df.append(record, ignore_index=True)\n",
    "    step += 1\n",
    "\n",
    "df['step'] = df['step'].astype(int)\n",
    "df['node_id'] = df['node_id'].astype(int)\n",
    "\n",
    "df_pivot = pd.pivot_table(data = df, values='mod_values', columns='node_id', index='step')\n",
    "sns.heatmap(df_pivot, annot=True, fmt='g', linewidth=.5)"
   ]
  },
  {
   "cell_type": "code",
   "execution_count": 16,
   "id": "45575d3f",
   "metadata": {},
   "outputs": [
    {
     "name": "stdout",
     "output_type": "stream",
     "text": [
      "(0, False, <function tanh_activation at 0x149ee8fcd8b0>, <function sum_aggregation at 0x149ee8fdf670>, 0.15480495011652473, 1.0, [(-1, 0.3951674859478872, -1.0169724736659658, 0.6825787453326092, 0.05307229065281457, -1.8365590031083825), (31, -0.4383567111498524, 0.729802350141939, -0.17160467372764537, 0.9500288761148634, 0.2559165046710232)])\n"
     ]
    },
    {
     "data": {
      "text/plain": [
       "<AxesSubplot:xlabel='connection', ylabel='step'>"
      ]
     },
     "execution_count": 16,
     "metadata": {},
     "output_type": "execute_result"
    },
    {
     "data": {
      "image/png": "[encoded data removed]",
      "text/plain": [
       "<Figure size 432x288 with 2 Axes>"
      ]
     },
     "metadata": {
      "needs_background": "light"
     },
     "output_type": "display_data"
    }
   ],
   "source": [
    "### 重みの変化を表示\n",
    "\n",
    "cols = ['step', 'connection', 'weight']\n",
    "df = pd.DataFrame(index=[], columns = cols)\n",
    "\n",
    "\n",
    "node_evals = [items['node_evals'] for items in log]\n",
    "\n",
    "print(node_evals[0][1])\n",
    "\n",
    "step = 0\n",
    "for node_eval in node_evals:\n",
    "    \n",
    "    for n in range(len(node_eval)):\n",
    "    \n",
    "        for each_connection_info in node_eval[n][-1]:\n",
    "            record = pd.Series([step, str(each_connection_info[0]) + ' to ' + str(node_eval[n][0]), each_connection_info[1]], index=df.columns)\n",
    "            df = df.append(record, ignore_index=True)\n",
    "    step += 1\n",
    "\n",
    "df['step'] = df['step'].astype(int)\n",
    "#df['connection'] = df['connection'].astype(int)\n",
    "\n",
    "df_pivot = pd.pivot_table(data = df, values='weight', columns='connection', index='step')\n",
    "sns.heatmap(df_pivot, annot=True, fmt='g', linewidth=.5)"
   ]
  },
  {
   "cell_type": "code",
   "execution_count": null,
   "id": "937c63a7",
   "metadata": {},
   "outputs": [],
   "source": []
  }
 ],
 "metadata": {
  "kernelspec": {
   "display_name": "Python 3 (ipykernel)",
   "language": "python",
   "name": "python3"
  },
  "language_info": {
   "codemirror_mode": {
    "name": "ipython",
    "version": 3
   },
   "file_extension": ".py",
   "mimetype": "text/x-python",
   "name": "python",
   "nbconvert_exporter": "python",
   "pygments_lexer": "ipython3",
   "version": "3.8.17"
  }
 },
 "nbformat": 4,
 "nbformat_minor": 5
}
