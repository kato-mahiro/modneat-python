{
 "cells": [
  {
   "cell_type": "code",
   "execution_count": 1,
   "id": "6708922d",
   "metadata": {},
   "outputs": [],
   "source": [
    "# The Python standard library import\n",
    "import os\n",
    "import shutil\n",
    "from pathlib import Path\n",
    "# The NEAT-Python library imports\n",
    "import neat\n",
    "# The helper used to visualize experiment results\n",
    "import visualize\n",
    "\n",
    "# The current working directory\n",
    "#print(Path().resolve())\n",
    "local_dir = os.path.join(str(Path().resolve()))\n",
    "# The directory to store outputs\n",
    "out_dir = str(os.path.join(local_dir, 'out'))"
   ]
  },
  {
   "cell_type": "code",
   "execution_count": 2,
   "id": "59746f66",
   "metadata": {},
   "outputs": [
    {
     "name": "stdout",
     "output_type": "stream",
     "text": [
      "<neat.species.DefaultSpeciesSet object at 0x7fd56028d978>\n",
      "遺伝子: Key: 1\n",
      "Fitness: None\n",
      "Nodes:\n",
      "\t0 DefaultNodeGene(key=0, bias=-0.8214937512437682, response=1.0, activation=sigmoid, aggregation=sum)\n",
      "Connections:\n",
      "\tDefaultConnectionGene(key=(-2, 0), weight=0.6256654697161571, enabled=True)\n",
      "\tDefaultConnectionGene(key=(-1, 0), weight=1.5955258259794065, enabled=True)\n",
      "====\n",
      "=== createする===\n",
      " --- genome可視化 --- \n",
      "genomeの型: <class 'neat.genome.DefaultGenome'>\n",
      "genome.key: 1\n",
      "genome.connections: {(-1, 0): <neat.genes.DefaultConnectionGene object at 0x7fd571e47588>, (-2, 0): <neat.genes.DefaultConnectionGene object at 0x7fd571e475c0>}\n",
      "genome.nodes: {0: <neat.genes.DefaultNodeGene object at 0x7fd571e47550>}\n",
      "genome.fitness: None\n",
      "connections: [(-1, 0), (-2, 0)]\n",
      "生成されるレイヤー: [{0}]\n",
      " === 生成された表現型 === : <neat.nn.feed_forward.FeedForwardNetwork object at 0x7fd56028dac8>\n",
      "input_nodes\n",
      "[-1, -2]\n",
      "output_nodes\n",
      "[0]\n",
      "node_evals\n",
      "[(0, <function sigmoid_activation at 0x7fd530054488>, <function sum_aggregation at 0x7fd550021598>, -0.8214937512437682, 1.0, [(-1, 1.5955258259794065), (-2, 0.6256654697161571)])]\n",
      "(0, <function sigmoid_activation at 0x7fd530054488>, <function sum_aggregation at 0x7fd550021598>, -0.8214937512437682, 1.0, [(-1, 1.5955258259794065), (-2, 0.6256654697161571)])\n",
      "values\n",
      "{0: 0.0, -2: 0.0, -1: 0.0}\n"
     ]
    }
   ],
   "source": [
    "\"\"\"\n",
    "The function to run XOR experiment against hyper-parameters \n",
    "defined in the provided configuration file.\n",
    "The winner genome will be rendered as a graph as well as the\n",
    "important statistics of neuroevolution process execution.\n",
    "Arguments:\n",
    "    config_file: the path to the file with experiment \n",
    "                configuration\n",
    "\"\"\"\n",
    "# 設定ファイルを読み込み\n",
    "config_path = os.path.join(local_dir, 'reccurent_config.ini')\n",
    "config = neat.Config(neat.DefaultGenome, neat.DefaultReproduction,\n",
    "                     neat.DefaultSpeciesSet, neat.DefaultStagnation, \n",
    "                     config_path)\n",
    "\n",
    "# Create the population, which is the top-level object for a NEAT run.\n",
    "p = neat.Population(config)\n",
    "\n",
    "# Add a stdout reporter to show progress in the terminal.\n",
    "p.add_reporter(neat.StdOutReporter(True))\n",
    "stats = neat.StatisticsReporter()\n",
    "p.add_reporter(stats)\n",
    "p.add_reporter(neat.Checkpointer(5, filename_prefix='out/neat-checkpoint-'))\n",
    "\n",
    "\n",
    "### 適当に個体群を生成して, そこから一つのネットワークを取得したい\n",
    "\n",
    "pop = neat.Population(config)\n",
    "#print(pop.population)\n",
    "print(pop.species)\n",
    "list(pop.population.items()) #ゲノムのリストを取得\n",
    "\n",
    "g = list(pop.population.items())[0][1]\n",
    "print('遺伝子:', g)\n",
    "print('====')\n",
    "\n",
    "print('=== createする===')\n",
    "net = neat.nn.FeedForwardNetwork.create(g, config) #ゲノムから表現系を生成しているところ\n",
    "      \n",
    "print(' === 生成された表現型 === :',net)\n",
    "\n",
    "#print(type(net))\n",
    "\n",
    "print('input_nodes')\n",
    "print(net.input_nodes)\n",
    "\n",
    "print('output_nodes')\n",
    "print(net.output_nodes)\n",
    "\n",
    "print('node_evals')\n",
    "print(net.node_evals)\n",
    "print(net.node_evals[0])\n",
    "\n",
    "print('values')\n",
    "print(net.values)"
   ]
  },
  {
   "cell_type": "code",
   "execution_count": 4,
   "id": "63f03a01",
   "metadata": {},
   "outputs": [
    {
     "name": "stdout",
     "output_type": "stream",
     "text": [
      "---\n",
      "inputs,self.input_nodes [100, 200] [-1, -2]\n",
      "self.input_nodes: [-1, -2]\n",
      "self.values: {0: 1.0, -2: 200, -1: 100}\n",
      "---\n",
      "inputs,self.input_nodes [100, 200] [-1, -2]\n",
      "self.input_nodes: [-1, -2]\n",
      "self.values: {0: 1.0, -2: 200, -1: 100}\n",
      "===\n",
      "self.node_evals: [(0, <function sigmoid_activation at 0x7fd530054488>, <function sum_aggregation at 0x7fd550021598>, -0.8214937512437682, 1.0, [(-1, 1.5955258259794065), (-2, 0.6256654697161571)])]\n",
      "[1.0]\n"
     ]
    }
   ],
   "source": [
    "#単一の個体に対して入力->出力を得る\n",
    "output = net.activate([100,200])\n",
    "print(output)"
   ]
  },
  {
   "cell_type": "code",
   "execution_count": 5,
   "id": "a4b7150c",
   "metadata": {},
   "outputs": [
    {
     "data": {
      "image/svg+xml": [
       "<?xml version=\"1.0\" encoding=\"UTF-8\" standalone=\"no\"?>\n",
       "<!DOCTYPE svg PUBLIC \"-//W3C//DTD SVG 1.1//EN\"\n",
       " \"http://www.w3.org/Graphics/SVG/1.1/DTD/svg11.dtd\">\n",
       "<!-- Generated by graphviz version 2.40.1 (20161225.0304)\n",
       " -->\n",
       "<!-- Title: %3 Pages: 1 -->\n",
       "<svg width=\"83pt\" height=\"137pt\"\n",
       " viewBox=\"0.00 0.00 82.95 136.95\" xmlns=\"http://www.w3.org/2000/svg\" xmlns:xlink=\"http://www.w3.org/1999/xlink\">\n",
       "<g id=\"graph0\" class=\"graph\" transform=\"scale(1 1) rotate(0) translate(4 132.9533)\">\n",
       "<title>%3</title>\n",
       "<polygon fill=\"#ffffff\" stroke=\"transparent\" points=\"-4,4 -4,-132.9533 78.9533,-132.9533 78.9533,4 -4,4\"/>\n",
       "<!-- A -->\n",
       "<g id=\"node1\" class=\"node\">\n",
       "<title>A</title>\n",
       "<polygon fill=\"#d3d3d3\" stroke=\"#000000\" points=\"28.9767,-128.9533 5.9767,-128.9533 5.9767,-110.9533 28.9767,-110.9533 28.9767,-128.9533\"/>\n",
       "<text text-anchor=\"middle\" x=\"17.4767\" y=\"-117.7533\" font-family=\"Times,serif\" font-size=\"9.00\" fill=\"#000000\">A</text>\n",
       "</g>\n",
       "<!-- A XOR B -->\n",
       "<g id=\"node3\" class=\"node\">\n",
       "<title>A XOR B</title>\n",
       "<ellipse fill=\"#add8e6\" stroke=\"#000000\" cx=\"37.4767\" cy=\"-37.4767\" rx=\"37.4533\" ry=\"37.4533\"/>\n",
       "<text text-anchor=\"middle\" x=\"37.4767\" y=\"-35.2767\" font-family=\"Times,serif\" font-size=\"9.00\" fill=\"#000000\">A XOR B</text>\n",
       "</g>\n",
       "<!-- A&#45;&gt;A XOR B -->\n",
       "<g id=\"edge1\" class=\"edge\">\n",
       "<title>A&#45;&gt;A XOR B</title>\n",
       "<path fill=\"none\" stroke=\"#00ff00\" stroke-width=\".4191\" d=\"M19.6934,-110.8117C21.3428,-104.0101 23.7314,-94.1598 26.2255,-83.8745\"/>\n",
       "<polygon fill=\"#00ff00\" stroke=\"#00ff00\" stroke-width=\".4191\" points=\"29.6731,-84.5086 28.6284,-73.9654 22.8703,-82.8589 29.6731,-84.5086\"/>\n",
       "</g>\n",
       "<!-- B -->\n",
       "<g id=\"node2\" class=\"node\">\n",
       "<title>B</title>\n",
       "<polygon fill=\"#d3d3d3\" stroke=\"#000000\" points=\"69.9767,-128.9533 46.9767,-128.9533 46.9767,-110.9533 69.9767,-110.9533 69.9767,-128.9533\"/>\n",
       "<text text-anchor=\"middle\" x=\"58.4767\" y=\"-117.7533\" font-family=\"Times,serif\" font-size=\"9.00\" fill=\"#000000\">B</text>\n",
       "</g>\n",
       "<!-- B&#45;&gt;A XOR B -->\n",
       "<g id=\"edge2\" class=\"edge\">\n",
       "<title>B&#45;&gt;A XOR B</title>\n",
       "<path fill=\"none\" stroke=\"#00ff00\" stroke-width=\".2251\" d=\"M56.1491,-110.8117C54.4172,-104.0101 51.9092,-94.1598 49.2904,-83.8745\"/>\n",
       "<polygon fill=\"#00ff00\" stroke=\"#00ff00\" stroke-width=\".2251\" points=\"52.6266,-82.7926 46.7673,-73.9654 45.8431,-84.5198 52.6266,-82.7926\"/>\n",
       "</g>\n",
       "</g>\n",
       "</svg>\n"
      ],
      "text/plain": [
       "<graphviz.dot.Digraph at 0x7fd571e04978>"
      ]
     },
     "execution_count": 5,
     "metadata": {},
     "output_type": "execute_result"
    }
   ],
   "source": [
    "#ネットワークを可視化する\n",
    "# Visualize the experiment results\n",
    "node_names = {-1:'A', -2: 'B', 0:'A XOR B'}\n",
    "visualize.draw_net(config, g, True, node_names=node_names, directory=out_dir)"
   ]
  },
  {
   "cell_type": "code",
   "execution_count": 6,
   "id": "a058a215",
   "metadata": {},
   "outputs": [
    {
     "name": "stdout",
     "output_type": "stream",
     "text": [
      "<neat.species.DefaultSpeciesSet object at 0x7f8699e25c88>\n",
      "遺伝子: Key: 1\n",
      "Fitness: None\n",
      "Nodes:\n",
      "\t0 DefaultNodeGene(key=0, bias=0.9290311950374088, response=1.0, activation=sigmoid, aggregation=sum)\n",
      "Connections:\n",
      "\tDefaultConnectionGene(key=(-2, 0), weight=-1.1318087719324017, enabled=True)\n",
      "\tDefaultConnectionGene(key=(-1, 0), weight=0.3122573204935441, enabled=True)\n",
      "表現型: <neat.nn.feed_forward.FeedForwardNetwork object at 0x7f8699e0f940>\n",
      "input_nodes\n",
      "[-1, -2]\n",
      "output_nodes\n",
      "[0]\n",
      "node_evals\n",
      "[(0, <function sigmoid_activation at 0x7f8658053488>, <function sum_aggregation at 0x7f86990f0598>, 0.9290311950374088, 1.0, [(-1, 0.3122573204935441), (-2, -1.1318087719324017)])]\n",
      "(0, <function sigmoid_activation at 0x7f8658053488>, <function sum_aggregation at 0x7f86990f0598>, 0.9290311950374088, 1.0, [(-1, 0.3122573204935441), (-2, -1.1318087719324017)])\n",
      "values\n",
      "{0: 0.0, -2: 0.0, -1: 0.0}\n"
     ]
    }
   ],
   "source": [
    "### 適当に個体群を生成して, そこから一つのネットワークを取得したい\n",
    "\n",
    "pop = neat.Population(config)\n",
    "#print(pop.population)\n",
    "print(pop.species)\n",
    "list(pop.population.items()) #ゲノムのリストを取得\n",
    "\n",
    "g = list(pop.population.items())[0][1]\n",
    "print('遺伝子:', g)\n",
    "\n",
    "net = neat.nn.FeedForwardNetwork.create(g, config)\n",
    "print('表現型:',net)\n",
    "#print(type(net))\n",
    "\n",
    "print('input_nodes')\n",
    "print(net.input_nodes)\n",
    "\n",
    "print('output_nodes')\n",
    "print(net.output_nodes)\n",
    "\n",
    "print('node_evals')\n",
    "print(net.node_evals)\n",
    "print(net.node_evals[0])\n",
    "\n",
    "print('values')\n",
    "print(net.values)"
   ]
  },
  {
   "cell_type": "code",
   "execution_count": 4,
   "id": "f7d0b370",
   "metadata": {
    "collapsed": true
   },
   "outputs": [],
   "source": [
    "def clean_output():\n",
    "    if os.path.isdir(out_dir):\n",
    "        # remove files from previous run\n",
    "        shutil.rmtree(out_dir)\n",
    "\n",
    "    # create the output directory\n",
    "    os.makedirs(out_dir, exist_ok=False)"
   ]
  },
  {
   "cell_type": "code",
   "execution_count": 17,
   "id": "b39cb5d5",
   "metadata": {},
   "outputs": [
    {
     "ename": "NameError",
     "evalue": "name 'eval_genomes' is not defined",
     "output_type": "error",
     "traceback": [
      "\u001b[0;31m---------------------------------------------------------------------------\u001b[0m",
      "\u001b[0;31mNameError\u001b[0m                                 Traceback (most recent call last)",
      "\u001b[0;32m<ipython-input-17-a7d05f0e05d6>\u001b[0m in \u001b[0;36m<module>\u001b[0;34m()\u001b[0m\n\u001b[1;32m      1\u001b[0m \u001b[0;31m# Run for up to 300 generations.\u001b[0m\u001b[0;34m\u001b[0m\u001b[0;34m\u001b[0m\u001b[0m\n\u001b[0;32m----> 2\u001b[0;31m \u001b[0mbest_genome\u001b[0m \u001b[0;34m=\u001b[0m \u001b[0mp\u001b[0m\u001b[0;34m.\u001b[0m\u001b[0mrun\u001b[0m\u001b[0;34m(\u001b[0m\u001b[0meval_genomes\u001b[0m\u001b[0;34m,\u001b[0m \u001b[0;36m300\u001b[0m\u001b[0;34m)\u001b[0m\u001b[0;34m\u001b[0m\u001b[0m\n\u001b[0m\u001b[1;32m      3\u001b[0m \u001b[0mprint\u001b[0m\u001b[0;34m(\u001b[0m\u001b[0mtype\u001b[0m\u001b[0;34m(\u001b[0m\u001b[0mbest_genome\u001b[0m\u001b[0;34m)\u001b[0m\u001b[0;34m)\u001b[0m\u001b[0;34m\u001b[0m\u001b[0m\n",
      "\u001b[0;31mNameError\u001b[0m: name 'eval_genomes' is not defined"
     ]
    }
   ],
   "source": [
    "# Run for up to 300 generations.\n",
    "best_genome = p.run(eval_genomes, 300)\n",
    "print(type(best_genome))"
   ]
  },
  {
   "cell_type": "code",
   "execution_count": 19,
   "id": "aaf3187f",
   "metadata": {},
   "outputs": [
    {
     "name": "stdout",
     "output_type": "stream",
     "text": [
      "\n",
      "Best genome:\n",
      "Key: 8982\n",
      "Fitness: 15.6522167942852\n",
      "Nodes:\n",
      "\t0 DefaultNodeGene(key=0, bias=-0.9093843855586577, response=1.0, activation=sigmoid, aggregation=sum)\n",
      "\t1011 DefaultNodeGene(key=1011, bias=-1.8190846212923804, response=1.0, activation=sigmoid, aggregation=sum)\n",
      "\t1521 DefaultNodeGene(key=1521, bias=-1.080282397236218, response=1.0, activation=sigmoid, aggregation=sum)\n",
      "Connections:\n",
      "\tDefaultConnectionGene(key=(-2, 0), weight=-2.4840053630094694, enabled=True)\n",
      "\tDefaultConnectionGene(key=(-2, 1011), weight=2.7765611815684395, enabled=True)\n",
      "\tDefaultConnectionGene(key=(-2, 1521), weight=-0.02613607148710209, enabled=True)\n",
      "\tDefaultConnectionGene(key=(-1, 0), weight=1.5847680499351735, enabled=True)\n",
      "\tDefaultConnectionGene(key=(-1, 1011), weight=-0.44055113171912663, enabled=False)\n",
      "\tDefaultConnectionGene(key=(-1, 1521), weight=1.187616432186448, enabled=True)\n",
      "\tDefaultConnectionGene(key=(1011, 0), weight=11.883832694203981, enabled=True)\n",
      "\tDefaultConnectionGene(key=(1521, 1011), weight=-3.637066245750132, enabled=True)\n",
      "\n",
      "Output:\n",
      "input (0.0, 0.0), expected output (0.0,), got [0.010552544365589278]\n",
      "input (0.0, 1.0), expected output (1.0,), got [1.0]\n",
      "input (1.0, 0.0), expected output (1.0,), got [0.9669753384869211]\n",
      "input (1.0, 1.0), expected output (0.0,), got [0.00013453436507352809]\n"
     ]
    }
   ],
   "source": [
    "# Display the best genome among generations.\n",
    "print('\\nBest genome:\\n{!s}'.format(best_genome))\n",
    "\n",
    "# Show output of the most fit genome against training data.\n",
    "print('\\nOutput:')\n",
    "net = neat.nn.FeedForwardNetwork.create(best_genome, config)\n",
    "for xi, xo in zip(xor_inputs, xor_outputs):\n",
    "    output = net.activate(xi)\n",
    "    print(\"input {!r}, expected output {!r}, got {!r}\".format(xi, xo, output))"
   ]
  },
  {
   "cell_type": "code",
   "execution_count": null,
   "id": "26911a11",
   "metadata": {},
   "outputs": [],
   "source": []
  }
 ],
 "metadata": {
  "kernelspec": {
   "display_name": "Python 3",
   "language": "python",
   "name": "python3"
  },
  "language_info": {
   "codemirror_mode": {
    "name": "ipython",
    "version": 3
   },
   "file_extension": ".py",
   "mimetype": "text/x-python",
   "name": "python",
   "nbconvert_exporter": "python",
   "pygments_lexer": "ipython3",
   "version": "3.5.6"
  }
 },
 "nbformat": 4,
 "nbformat_minor": 5
}
