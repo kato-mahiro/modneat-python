{
 "cells": [
  {
   "cell_type": "code",
   "execution_count": 1,
   "id": "f76e4d6b",
   "metadata": {},
   "outputs": [
    {
     "name": "stdout",
     "output_type": "stream",
     "text": [
      "/home/kato-masahiro/Project/modneat-python/myexamples/investigate_utils\n"
     ]
    }
   ],
   "source": [
    "# The Python standard library import\n",
    "import sys\n",
    "import os\n",
    "import shutil\n",
    "from pathlib import Path\n",
    "print(str(Path().resolve()))\n",
    "current_dir = str(Path().resolve())\n",
    "sys.path.append(os.path.join(current_dir, '..'))\n",
    "\n",
    "import matplotlib.pyplot as plt\n",
    "import pandas as pd\n",
    "import seaborn as sns\n",
    "\n",
    "import task\n",
    "\n",
    "from pathlib import Path\n",
    "# The NEAT-Python library imports\n",
    "import modneat\n",
    "# The helper used to visualize experiment results\n",
    "from modneat import visualize"
   ]
  },
  {
   "cell_type": "code",
   "execution_count": 2,
   "id": "1d261d92",
   "metadata": {},
   "outputs": [
    {
     "name": "stdout",
     "output_type": "stream",
     "text": [
      "<modneat.config.Config object at 0x14c0b4b065b0>\n"
     ]
    }
   ],
   "source": [
    "p = modneat.Checkpointer.restore_checkpoint('../results/task.non_static_IndExHebbFFN_0/checkpoints/checkpoint-99')\n",
    "print(p.config)\n",
    "t = task.non_static(network_type = modneat.nn.IndExHebbFFN)"
   ]
  },
  {
   "cell_type": "code",
   "execution_count": 3,
   "id": "22663c8a",
   "metadata": {},
   "outputs": [
    {
     "name": "stdout",
     "output_type": "stream",
     "text": [
      "Mean genetic distance 1.883, standard deviation 0.606\n",
      "*** [WARNING] FileOutputReporter couldn't find a savepath ./results/task.non_static_IndExHebbFFN_0/results.txt\n"
     ]
    }
   ],
   "source": [
    "best_genome = p.run(t.eval_genomes, 1)\n",
    "net = modneat.nn.IndExHebbFFN.create(best_genome, p.config)"
   ]
  },
  {
   "cell_type": "code",
   "execution_count": 4,
   "id": "2f2269e7",
   "metadata": {},
   "outputs": [
    {
     "name": "stdout",
     "output_type": "stream",
     "text": [
      "Key: 12249\n",
      "Fitness: 15.136407478850968\n",
      "Nodes:\n",
      "\t0 DefaultNodeGene(key=0, bias=0.0012898918258836822, response=1.0, activation=tanh, aggregation=sum)\n",
      "\t19 DefaultNodeGene(key=19, bias=0.3900004598392048, response=1.0, activation=tanh, aggregation=sum)\n",
      "Connections:\n",
      "\tExHebbConnectionGene(key=(-2, 19), weight=1.5222080235553683, enabled=True, a=-1.1230409651207172, b=-2.2811421769862887, c=0.05298591701918455, d=-0.3459841452255298)\n",
      "\tExHebbConnectionGene(key=(-1, 0), weight=-0.548514733487687, enabled=True, a=1.800984702574888, b=0.6845669236546907, c=-0.5307522399895473, d=-0.15809743706725485)\n",
      "\tExHebbConnectionGene(key=(19, 0), weight=1.9720973689915695, enabled=True, a=0.4739966991580174, b=-1.2830911735493182, c=-0.3142458857079824, d=0.25935613120884904)\n",
      "Global params:\n",
      "\tDefaultGlobalGene(key=0)\n",
      "[(19, <function tanh_activation at 0x14c025f35a60>, <function sum_aggregation at 0x14c025f4b790>, 0.3900004598392048, 1.0, [(-2, 1.5222080235553683, -1.1230409651207172, -2.2811421769862887, 0.05298591701918455, -0.3459841452255298)]), (0, <function tanh_activation at 0x14c025f35a60>, <function sum_aggregation at 0x14c025f4b790>, 0.0012898918258836822, 1.0, [(19, 1.9720973689915695, 0.4739966991580174, -1.2830911735493182, -0.3142458857079824, 0.25935613120884904), (-1, -0.548514733487687, 1.800984702574888, 0.6845669236546907, -0.5307522399895473, -0.15809743706725485)])]\n"
     ]
    }
   ],
   "source": [
    "print(best_genome)\n",
    "print(net.node_evals)"
   ]
  },
  {
   "cell_type": "code",
   "execution_count": 5,
   "id": "4734e092",
   "metadata": {},
   "outputs": [
    {
     "name": "stdout",
     "output_type": "stream",
     "text": [
      "4\n",
      "{-1: 1.0, -2: 1.0, 0: -0.9999421158734565, 19: -0.9999999999540332}\n",
      "{'input_nodes': [-1, -2], 'output_nodes': [0], 'node_evals': [(19, <function tanh_activation at 0x14c025f35a60>, <function sum_aggregation at 0x14c025f4b790>, 0.3900004598392048, 1.0, [(-2, -6.8463214887486235, -1.1230409651207172, -2.2811421769862887, 0.05298591701918455, -0.3459841452255298)]), (0, <function tanh_activation at 0x14c025f35a60>, <function sum_aggregation at 0x14c025f4b790>, 0.0012898918258836822, 1.0, [(19, 6.598967729879532, 0.4739966991580174, -1.2830911735493182, -0.3142458857079824, 0.25935613120884904), (-1, 1.43330700494374, 1.800984702574888, 0.6845669236546907, -0.5307522399895473, -0.15809743706725485)])], 'values': {-1: 1.0, -2: 1.0, 0: -0.9999421158734565, 19: -0.9999999999540332}}\n"
     ]
    }
   ],
   "source": [
    "fitness, log = t.eval_fitness(net, history_log = True)\n",
    "print(len(log))\n",
    "print(net.__dict__['values'])\n",
    "print(log[0])"
   ]
  },
  {
   "cell_type": "code",
   "execution_count": 9,
   "id": "4590c816",
   "metadata": {},
   "outputs": [
    {
     "name": "stdout",
     "output_type": "stream",
     "text": [
      "Empty DataFrame\n",
      "Columns: [step, node_id, value]\n",
      "Index: []\n",
      "{-1: 1.0, -2: 1.0, 0: -0.9999421158734565, 19: -0.9999999999540332}\n",
      "(-1, 1.0)\n",
      "(-2, 1.0)\n",
      "(0, -0.9999421158734565)\n",
      "(19, -0.9999999999540332)\n",
      "{-1: 1.0, -2: 1.0, 0: -0.9999421158734565, 19: -0.9999999999540332}\n",
      "(-1, 1.0)\n",
      "(-2, 1.0)\n",
      "(0, -0.9999421158734565)\n",
      "(19, -0.9999999999540332)\n",
      "{-1: 1.0, -2: 1.0, 0: -0.9999421158734565, 19: -0.9999999999540332}\n",
      "(-1, 1.0)\n",
      "(-2, 1.0)\n",
      "(0, -0.9999421158734565)\n",
      "(19, -0.9999999999540332)\n",
      "{-1: 1.0, -2: 1.0, 0: -0.9999421158734565, 19: -0.9999999999540332}\n",
      "(-1, 1.0)\n",
      "(-2, 1.0)\n",
      "(0, -0.9999421158734565)\n",
      "(19, -0.9999999999540332)\n",
      "    step  node_id     value\n",
      "0    1.0     -1.0  1.000000\n",
      "1    1.0     -2.0  1.000000\n",
      "2    1.0      0.0 -0.999942\n",
      "3    1.0     19.0 -1.000000\n",
      "4    2.0     -1.0  1.000000\n",
      "5    2.0     -2.0  1.000000\n",
      "6    2.0      0.0 -0.999942\n",
      "7    2.0     19.0 -1.000000\n",
      "8    3.0     -1.0  1.000000\n",
      "9    3.0     -2.0  1.000000\n",
      "10   3.0      0.0 -0.999942\n",
      "11   3.0     19.0 -1.000000\n",
      "12   4.0     -1.0  1.000000\n",
      "13   4.0     -2.0  1.000000\n",
      "14   4.0      0.0 -0.999942\n",
      "15   4.0     19.0 -1.000000\n"
     ]
    },
    {
     "data": {
      "text/plain": [
       "<AxesSubplot:xlabel='node_id', ylabel='step'>"
      ]
     },
     "execution_count": 9,
     "metadata": {},
     "output_type": "execute_result"
    },
    {
     "data": {
      "image/png": "[encoded data removed]",
      "text/plain": [
       "<Figure size 432x288 with 2 Axes>"
      ]
     },
     "metadata": {
      "needs_background": "light"
     },
     "output_type": "display_data"
    }
   ],
   "source": [
    "#ノードの活性化値の可視化\n",
    "cols = ['step', 'node_id', 'value']\n",
    "df = pd.DataFrame(index=[], columns = cols)\n",
    "print(df)\n",
    "value_history = [items['values'] for items in log]\n",
    "\n",
    "step = 0\n",
    "for values in value_history:\n",
    "    step += 1\n",
    "    print(values)\n",
    "    for i in values.items():\n",
    "        print(i)\n",
    "        record = pd.Series([step, i[0], i[1]], index=df.columns)\n",
    "        df = df.append(record, ignore_index=True)\n",
    "\n",
    "print(df)\n",
    "\n",
    "df_pivot = pd.pivot_table(data = df, values='value', columns='node_id', index='step')\n",
    "sns.heatmap(df_pivot)"
   ]
  },
  {
   "cell_type": "code",
   "execution_count": 6,
   "id": "9bbe3bac",
   "metadata": {},
   "outputs": [
    {
     "name": "stdout",
     "output_type": "stream",
     "text": [
      "150\n",
      "(1, <modneat.genome.ExModGenome object at 0x7f8b597036d0>)\n"
     ]
    }
   ],
   "source": [
    "# The current working directory\n",
    "#print(Path().resolve())\n",
    "local_dir = os.path.join(str(Path().resolve()))\n",
    "# The directory to store outputs\n",
    "out_dir = str(os.path.join(local_dir, 'out'))\n",
    "\n",
    "\"\"\"\n",
    "The function to run XOR experiment against hyper-parameters \n",
    "defined in the provided configuration file.\n",
    "The winner genome will be rendered as a graph as well as the\n",
    "important statistics of neuroevolution process execution.\n",
    "Arguments:\n",
    "    config_file: the path to the file with experiment \n",
    "                configuration\n",
    "\"\"\"\n",
    "# 設定ファイルを読み込み\n",
    "config_path = os.path.join(local_dir, 'exmodgenome_config.ini')\n",
    "config = modneat.Config(modneat.ExModGenome, modneat.DefaultReproduction,\n",
    "                     modneat.DefaultSpeciesSet, modneat.DefaultStagnation, \n",
    "                     config_path)\n",
    "\n",
    "#初期個体群を生成、一つの個体を取得など\n",
    "# Create the population, which is the top-level object for a NEAT run.\n",
    "p = neat.Population(config)\n",
    "\n",
    "# Add a stdout reporter to show progress in the terminal.\n",
    "p.add_reporter(neat.StdOutReporter(True))\n",
    "stats = neat.StatisticsReporter()\n",
    "p.add_reporter(stats)\n",
    "p.add_reporter(neat.Checkpointer(5, filename_prefix='out/neat-checkpoint-'))\n",
    "\n",
    "\n",
    "### 適当に個体群を生成して, そこから一つのネットワークを取得したい\n",
    "\n",
    "#pop = neat.Population(config)\n",
    "#print(p.population)\n",
    "#print(p.species)\n",
    "list(p.population.items()) #ゲノムのリストを取得\n",
    "#print(list(p.population.items()))\n",
    "print(len(list(p.population.items()))) #150\n",
    "print(list(p.population.items())[0])\n",
    "\n",
    "g = list(p.population.items())[0][1] #個体群の最初の個体の遺伝子を取得\n",
    "\n",
    "#一つのfeedforwardNetworkの個体をgから生成する\n",
    "net = modneat.nn.ExModFeedForwardNetwork.create(g, config)"
   ]
  },
  {
   "cell_type": "code",
   "execution_count": 7,
   "id": "3725d2f3",
   "metadata": {},
   "outputs": [
    {
     "name": "stdout",
     "output_type": "stream",
     "text": [
      " ::: 遺伝子::: \n",
      " Key: 1\n",
      "Fitness: None\n",
      "Nodes:\n",
      "\t0 ModNodeGene(key=0, bias=0.658368759145145, response=1.0, activation=sigmoid, aggregation=sum, modulatory=False)\n",
      "Connections:\n",
      "\tExHebbConnectionGene(key=(-2, 0), weight=0.5980351795353837, enabled=True, a=-1.1105708194837844, b=2.172653187511239, c=0.18552483687436755, d=0.2953755209694497)\n",
      "\tExHebbConnectionGene(key=(-1, 0), weight=0.4434447394359, enabled=True, a=-0.4153047166318305, b=0.06323924022235183, c=-1.4378591996466805, d=2.3719473099454613) \n",
      "\n",
      " ::: 生成された表現型 ::: \n",
      " <modneat.nn.ex_mod_feed_forward.ExModFeedForwardNetwork object at 0x7f8b18074ca0> \n",
      "\n",
      " ::: input_nodes ::: \n",
      " [-1, -2] \n",
      "\n",
      " ::: output_nodes ::: \n",
      " [0] \n",
      "\n",
      " ::: node_evals[0] ::: \n",
      " (0, False, <function sigmoid_activation at 0x7f8b289f63a0>, <function sum_aggregation at 0x7f8b28a041f0>, 0.658368759145145, 1.0, [(-1, 0.4434447394359, -0.4153047166318305, 0.06323924022235183, -1.4378591996466805, 2.3719473099454613), (-2, 0.5980351795353837, -1.1105708194837844, 2.172653187511239, 0.18552483687436755, 0.2953755209694497)]) \n",
      "\n",
      " ::: values ::: \n",
      " {-1: 0.0, -2: 0.0, 0: 0.0} \n",
      "\n"
     ]
    }
   ],
   "source": [
    "###色々中身を見てみる\n",
    "print(' ::: 遺伝子::: \\n', g, '\\n')\n",
    "\n",
    "print(' ::: 生成された表現型 ::: \\n',net, '\\n')\n",
    "\n",
    "print(' ::: input_nodes ::: \\n', net.input_nodes, '\\n')\n",
    "\n",
    "print(' ::: output_nodes ::: \\n', net.output_nodes ,'\\n')\n",
    "\n",
    "#node_evalsは、各レイヤーごとに\n",
    "# node, activate_function, aggregation_function, bias, response, linputs という要素が入ったリスト\n",
    "print(' ::: node_evals[0] ::: \\n', net.node_evals[0], '\\n')\n",
    "#for node, act_func, agg_func, bias, response, links in net.node_evals:\n",
    "    #print(links)\n",
    "\n",
    "print(' ::: values ::: \\n', net.values, '\\n')\n",
    "\n",
    "#重みはどこ？？\n",
    "\n",
    "#ネットワークを可視化する\n",
    "# Visualize the experiment results\n",
    "#node_names = {-1:'A', -2: 'B', 0:'A XOR B'}\n",
    "#visualize.draw_net(config, g, True, node_names=None, directory=out_dir)"
   ]
  },
  {
   "cell_type": "code",
   "execution_count": 6,
   "id": "d5d44788",
   "metadata": {},
   "outputs": [
    {
     "name": "stdout",
     "output_type": "stream",
     "text": [
      "---\n",
      "inputs,self.input_nodes [1, -1] [-1, -2]\n",
      "self.input_nodes: [-1, -2]\n",
      "self.values: {0: 1.81614392363443e-07, 1: 0.9999999413309578, -2: -1, -1: 1}\n",
      "self.node_evals: [(1, <function sigmoid_activation at 0x7fcd90052488>, <function sum_aggregation at 0x7fcdb02c1598>, 1.509334385522758, 1.0, [(-1, 1.1287625327616446), (-2, -0.6921737978176516)]), (0, <function sigmoid_activation at 0x7fcd90052488>, <function sum_aggregation at 0x7fcdb02c1598>, -1.4878819768651865, 1.0, [(1, 0), (-2, 0), (-1, 0)])]\n",
      "---\n",
      "inputs,self.input_nodes [1, -1] [-1, -2]\n",
      "self.input_nodes: [-1, -2]\n",
      "self.values: {0: 1.81614392363443e-07, 1: 0.9999999413309578, -2: -1, -1: 1}\n",
      "self.node_evals: [(1, <function sigmoid_activation at 0x7fcd90052488>, <function sum_aggregation at 0x7fcdb02c1598>, 1.509334385522758, 1.0, [(-1, 1.1287625327616446), (-2, -0.6921737978176516)]), (0, <function sigmoid_activation at 0x7fcd90052488>, <function sum_aggregation at 0x7fcdb02c1598>, -1.4878819768651865, 1.0, [(1, 0), (-2, 0), (-1, 0)])]\n",
      "======\n",
      "node: 1, bias: 1.509334385522758, response: 1.0, links: [(-1, 1.1287625327616446), (-2, -0.6921737978176516)] \n",
      "self.node_evals: [(1, <function sigmoid_activation at 0x7fcd90052488>, <function sum_aggregation at 0x7fcdb02c1598>, 1.509334385522758, 1.0, [(-1, 1.1287625327616446), (-2, -0.6921737978176516)]), (0, <function sigmoid_activation at 0x7fcd90052488>, <function sum_aggregation at 0x7fcdb02c1598>, -1.4878819768651865, 1.0, [(1, 0), (-2, 0), (-1, 0)])]\n",
      "======\n",
      "node: 0, bias: -1.4878819768651865, response: 1.0, links: [(1, 0), (-2, 0), (-1, 0)] \n",
      "self.node_evals: [(1, <function sigmoid_activation at 0x7fcd90052488>, <function sum_aggregation at 0x7fcdb02c1598>, 1.509334385522758, 1.0, [(-1, 1.1287625327616446), (-2, -0.6921737978176516)]), (0, <function sigmoid_activation at 0x7fcd90052488>, <function sum_aggregation at 0x7fcdb02c1598>, -1.4878819768651865, 1.0, [(1, 0), (-2, 0), (-1, 0)])]\n",
      "[0.0005872867576101362]\n"
     ]
    },
    {
     "data": {
      "image/svg+xml": [
       "<?xml version=\"1.0\" encoding=\"UTF-8\" standalone=\"no\"?>\n",
       "<!DOCTYPE svg PUBLIC \"-//W3C//DTD SVG 1.1//EN\"\n",
       " \"http://www.w3.org/Graphics/SVG/1.1/DTD/svg11.dtd\">\n",
       "<!-- Generated by graphviz version 2.40.1 (20161225.0304)\n",
       " -->\n",
       "<!-- Title: %3 Pages: 1 -->\n",
       "<svg width=\"455pt\" height=\"187pt\"\n",
       " viewBox=\"0.00 0.00 455.00 187.40\" xmlns=\"http://www.w3.org/2000/svg\" xmlns:xlink=\"http://www.w3.org/1999/xlink\">\n",
       "<g id=\"graph0\" class=\"graph\" transform=\"scale(1 1) rotate(0) translate(4 183.397)\">\n",
       "<title>%3</title>\n",
       "<polygon fill=\"#ffffff\" stroke=\"transparent\" points=\"-4,4 -4,-183.397 451,-183.397 451,4 -4,4\"/>\n",
       "<!-- &#45;1 -->\n",
       "<g id=\"node1\" class=\"node\">\n",
       "<title>&#45;1</title>\n",
       "<polygon fill=\"#d3d3d3\" stroke=\"#000000\" points=\"24,-179.397 0,-179.397 0,-161.397 24,-161.397 24,-179.397\"/>\n",
       "<text text-anchor=\"middle\" x=\"12\" y=\"-168.197\" font-family=\"Times,serif\" font-size=\"9.00\" fill=\"#000000\">&#45;1</text>\n",
       "</g>\n",
       "<!-- 0 -->\n",
       "<g id=\"node3\" class=\"node\">\n",
       "<title>0</title>\n",
       "<ellipse fill=\"#add8e6\" stroke=\"#000000\" cx=\"159\" cy=\"-14.8492\" rx=\"14.7\" ry=\"14.7\"/>\n",
       "<text text-anchor=\"middle\" x=\"159\" y=\"-12.6492\" font-family=\"Times,serif\" font-size=\"9.00\" fill=\"#000000\">0</text>\n",
       "</g>\n",
       "<!-- &#45;1&#45;&gt;0 -->\n",
       "<g id=\"edge5\" class=\"edge\">\n",
       "<title>&#45;1&#45;&gt;0</title>\n",
       "<path fill=\"none\" stroke=\"#00ff00\" stroke-width=\".1658\" d=\"M9.0311,-161.3567C3.9574,-144.0963 -4.3406,-105.9235 12,-80.6985 39.0266,-38.9775 99.3981,-23.4468 133.7749,-17.8507\"/>\n",
       "<polygon fill=\"#00ff00\" stroke=\"#00ff00\" stroke-width=\".1658\" points=\"134.5597,-21.2733 143.9476,-16.3623 133.5462,-14.347 134.5597,-21.2733\"/>\n",
       "<text text-anchor=\"middle\" x=\"73.5\" y=\"-91.8477\" font-family=\"Times,serif\" font-size=\"14.00\" fill=\"#000000\">0.3288053300391276</text>\n",
       "</g>\n",
       "<!-- 1 -->\n",
       "<g id=\"node4\" class=\"node\">\n",
       "<title>1</title>\n",
       "<ellipse fill=\"#ffffff\" stroke=\"#000000\" cx=\"159\" cy=\"-95.5477\" rx=\"14.7\" ry=\"14.7\"/>\n",
       "<text text-anchor=\"middle\" x=\"159\" y=\"-93.3477\" font-family=\"Times,serif\" font-size=\"9.00\" fill=\"#000000\">1</text>\n",
       "</g>\n",
       "<!-- &#45;1&#45;&gt;1 -->\n",
       "<g id=\"edge2\" class=\"edge\">\n",
       "<title>&#45;1&#45;&gt;1</title>\n",
       "<path fill=\"none\" stroke=\"#00ff00\" stroke-width=\".3258\" d=\"M15.2057,-161.1613C19.066,-151.4561 26.5029,-136.4976 38,-128.397 69.2117,-106.4059 85.4838,-121.5478 122,-110.397 126.516,-109.0179 131.2525,-107.3194 135.7715,-105.5696\"/>\n",
       "<polygon fill=\"#00ff00\" stroke=\"#00ff00\" stroke-width=\".3258\" points=\"137.1988,-108.7676 145.1462,-101.7612 134.5642,-102.2823 137.1988,-108.7676\"/>\n",
       "<text text-anchor=\"middle\" x=\"99.5\" y=\"-132.197\" font-family=\"Times,serif\" font-size=\"14.00\" fill=\"#000000\">1.1287625327616446</text>\n",
       "</g>\n",
       "<!-- &#45;2 -->\n",
       "<g id=\"node2\" class=\"node\">\n",
       "<title>&#45;2</title>\n",
       "<polygon fill=\"#d3d3d3\" stroke=\"#000000\" points=\"257,-179.397 233,-179.397 233,-161.397 257,-161.397 257,-179.397\"/>\n",
       "<text text-anchor=\"middle\" x=\"245\" y=\"-168.197\" font-family=\"Times,serif\" font-size=\"9.00\" fill=\"#000000\">&#45;2</text>\n",
       "</g>\n",
       "<!-- &#45;2&#45;&gt;0 -->\n",
       "<g id=\"edge3\" class=\"edge\">\n",
       "<title>&#45;2&#45;&gt;0</title>\n",
       "<path fill=\"none\" stroke=\"#00ff00\" stroke-width=\".4066\" d=\"M257.2928,-168.5968C271.1252,-165.8422 292.969,-159.1313 303,-143.397 316.1746,-122.7319 361.9348,-123.5577 298,-47.6985 283.5903,-30.6013 220.5008,-21.2907 184.4693,-17.2808\"/>\n",
       "<polygon fill=\"#00ff00\" stroke=\"#00ff00\" stroke-width=\".4066\" points=\"184.5512,-13.7701 174.2396,-16.2037 183.8182,-20.7317 184.5512,-13.7701\"/>\n",
       "<text text-anchor=\"middle\" x=\"389\" y=\"-91.8477\" font-family=\"Times,serif\" font-size=\"14.00\" fill=\"#000000\">1.532814851422359</text>\n",
       "</g>\n",
       "<!-- &#45;2&#45;&gt;1 -->\n",
       "<g id=\"edge4\" class=\"edge\">\n",
       "<title>&#45;2&#45;&gt;1</title>\n",
       "<path fill=\"none\" stroke=\"#ff0000\" stroke-width=\".2384\" d=\"M232.8745,-168.9046C217.3691,-166.3676 190.6579,-159.783 175,-143.397 169.0431,-137.1631 165.3016,-128.6485 162.9525,-120.5289\"/>\n",
       "<polygon fill=\"#ff0000\" stroke=\"#ff0000\" stroke-width=\".2384\" points=\"166.3314,-119.6056 160.6598,-110.6567 159.5128,-121.1892 166.3314,-119.6056\"/>\n",
       "<text text-anchor=\"middle\" x=\"239\" y=\"-132.197\" font-family=\"Times,serif\" font-size=\"14.00\" fill=\"#000000\">&#45;0.6921737978176516</text>\n",
       "</g>\n",
       "<!-- 1&#45;&gt;0 -->\n",
       "<g id=\"edge1\" class=\"edge\">\n",
       "<title>1&#45;&gt;0</title>\n",
       "<path fill=\"none\" stroke=\"#ff0000\" stroke-width=\".1825\" d=\"M159,-80.369C159,-69.0974 159,-53.4626 159,-40.2929\"/>\n",
       "<polygon fill=\"#ff0000\" stroke=\"#ff0000\" stroke-width=\".1825\" points=\"162.5001,-39.9599 159,-29.9599 155.5001,-39.96 162.5001,-39.9599\"/>\n",
       "<text text-anchor=\"middle\" x=\"226.5\" y=\"-51.4985\" font-family=\"Times,serif\" font-size=\"14.00\" fill=\"#000000\">&#45;0.41238451378628854</text>\n",
       "</g>\n",
       "</g>\n",
       "</svg>\n"
      ],
      "text/plain": [
       "<graphviz.dot.Digraph at 0x7fcdd1a97358>"
      ]
     },
     "execution_count": 6,
     "metadata": {},
     "output_type": "execute_result"
    }
   ],
   "source": [
    "#単一の個体に対して入力->出力を得る\n",
    "output = net.activate([1,-1])\n",
    "print(output)\n",
    "visualize.draw_net(config, g, True, node_names=None, directory=out_dir)"
   ]
  },
  {
   "cell_type": "code",
   "execution_count": null,
   "id": "ddfdb8bc",
   "metadata": {},
   "outputs": [],
   "source": [
    "print(net.)"
   ]
  },
  {
   "cell_type": "code",
   "execution_count": 7,
   "id": "7ad8a820",
   "metadata": {},
   "outputs": [
    {
     "name": "stdout",
     "output_type": "stream",
     "text": [
      "1 2\n",
      "ノード-1,0の間の重みを0にしました\n",
      "1 1\n",
      "ノード-2,0の間の重みを0にしました\n",
      "1 0\n",
      "ノード1,0の間の重みを0にしました\n",
      "[(1, <function sigmoid_activation at 0x7fcd90052488>, <function sum_aggregation at 0x7fcdb02c1598>, 1.509334385522758, 1.0, [(-1, 1.1287625327616446), (-2, -0.6921737978176516)]), (0, <function sigmoid_activation at 0x7fcd90052488>, <function sum_aggregation at 0x7fcdb02c1598>, -1.4878819768651865, 1.0, [(1, 0), (-2, 0), (-1, 0)])]\n"
     ]
    },
    {
     "ename": "TypeError",
     "evalue": "draw_net() missing 1 required positional argument: 'genome'",
     "output_type": "error",
     "traceback": [
      "\u001b[0;31m---------------------------------------------------------------------------\u001b[0m",
      "\u001b[0;31mTypeError\u001b[0m                                 Traceback (most recent call last)",
      "\u001b[0;32m<ipython-input-7-69a6c1f191e4>\u001b[0m in \u001b[0;36m<module>\u001b[0;34m()\u001b[0m\n\u001b[1;32m      4\u001b[0m \u001b[0mnet\u001b[0m\u001b[0;34m.\u001b[0m\u001b[0mset_weight_val\u001b[0m\u001b[0;34m(\u001b[0m\u001b[0minput_node\u001b[0m \u001b[0;34m=\u001b[0m \u001b[0;36m1\u001b[0m\u001b[0;34m,\u001b[0m \u001b[0moutput_node\u001b[0m \u001b[0;34m=\u001b[0m\u001b[0;36m0\u001b[0m\u001b[0;34m,\u001b[0m \u001b[0mvalue\u001b[0m\u001b[0;34m=\u001b[0m\u001b[0;36m0\u001b[0m\u001b[0;34m)\u001b[0m\u001b[0;34m\u001b[0m\u001b[0m\n\u001b[1;32m      5\u001b[0m \u001b[0mprint\u001b[0m\u001b[0;34m(\u001b[0m\u001b[0mnet\u001b[0m\u001b[0;34m.\u001b[0m\u001b[0mnode_evals\u001b[0m\u001b[0;34m)\u001b[0m\u001b[0;34m\u001b[0m\u001b[0m\n\u001b[0;32m----> 6\u001b[0;31m \u001b[0mvisualize\u001b[0m\u001b[0;34m.\u001b[0m\u001b[0mdraw_net\u001b[0m\u001b[0;34m(\u001b[0m\u001b[0mnet\u001b[0m\u001b[0;34m)\u001b[0m\u001b[0;34m\u001b[0m\u001b[0m\n\u001b[0m",
      "\u001b[0;31mTypeError\u001b[0m: draw_net() missing 1 required positional argument: 'genome'"
     ]
    }
   ],
   "source": [
    "#net.node_evals[0][5][0][1]\n",
    "net.set_weight_val(input_node = -1, output_node =0, value=0)\n",
    "net.set_weight_val(input_node = -2, output_node =0, value=0)\n",
    "net.set_weight_val(input_node = 1, output_node =0, value=0)\n",
    "print(net.node_evals)\n",
    "visualize.draw_net(net)"
   ]
  },
  {
   "cell_type": "code",
   "execution_count": 6,
   "id": "0f29ea9b",
   "metadata": {},
   "outputs": [
    {
     "name": "stdout",
     "output_type": "stream",
     "text": [
      "<neat.species.DefaultSpeciesSet object at 0x7f8699e25c88>\n",
      "遺伝子: Key: 1\n",
      "Fitness: None\n",
      "Nodes:\n",
      "\t0 DefaultNodeGene(key=0, bias=0.9290311950374088, response=1.0, activation=sigmoid, aggregation=sum)\n",
      "Connections:\n",
      "\tDefaultConnectionGene(key=(-2, 0), weight=-1.1318087719324017, enabled=True)\n",
      "\tDefaultConnectionGene(key=(-1, 0), weight=0.3122573204935441, enabled=True)\n",
      "表現型: <neat.nn.feed_forward.FeedForwardNetwork object at 0x7f8699e0f940>\n",
      "input_nodes\n",
      "[-1, -2]\n",
      "output_nodes\n",
      "[0]\n",
      "node_evals\n",
      "[(0, <function sigmoid_activation at 0x7f8658053488>, <function sum_aggregation at 0x7f86990f0598>, 0.9290311950374088, 1.0, [(-1, 0.3122573204935441), (-2, -1.1318087719324017)])]\n",
      "(0, <function sigmoid_activation at 0x7f8658053488>, <function sum_aggregation at 0x7f86990f0598>, 0.9290311950374088, 1.0, [(-1, 0.3122573204935441), (-2, -1.1318087719324017)])\n",
      "values\n",
      "{0: 0.0, -2: 0.0, -1: 0.0}\n"
     ]
    }
   ],
   "source": [
    "### 適当に個体群を生成して, そこから一つのネットワークを取得したい\n",
    "\n",
    "pop = neat.Population(config)\n",
    "#print(pop.population)\n",
    "print(pop.species)\n",
    "list(pop.population.items()) #ゲノムのリストを取得\n",
    "\n",
    "g = list(pop.population.items())[0][1]\n",
    "print('遺伝子:', g)\n",
    "\n",
    "net = neat.nn.FeedForwardNetwork.create(g, config)\n",
    "print('表現型:',net)\n",
    "#print(type(net))\n",
    "\n",
    "print('input_nodes')\n",
    "print(net.input_nodes)\n",
    "\n",
    "print('output_nodes')\n",
    "print(net.output_nodes)\n",
    "\n",
    "print('node_evals')\n",
    "print(net.node_evals)\n",
    "print(net.node_evals[0])\n",
    "\n",
    "print('values')\n",
    "print(net.values)"
   ]
  },
  {
   "cell_type": "code",
   "execution_count": 4,
   "id": "b85e260e",
   "metadata": {
    "collapsed": true
   },
   "outputs": [],
   "source": [
    "def clean_output():\n",
    "    if os.path.isdir(out_dir):\n",
    "        # remove files from previous run\n",
    "        shutil.rmtree(out_dir)\n",
    "\n",
    "    # create the output directory\n",
    "    os.makedirs(out_dir, exist_ok=False)"
   ]
  },
  {
   "cell_type": "code",
   "execution_count": 17,
   "id": "9b6d7883",
   "metadata": {},
   "outputs": [
    {
     "ename": "NameError",
     "evalue": "name 'eval_genomes' is not defined",
     "output_type": "error",
     "traceback": [
      "\u001b[0;31m---------------------------------------------------------------------------\u001b[0m",
      "\u001b[0;31mNameError\u001b[0m                                 Traceback (most recent call last)",
      "\u001b[0;32m<ipython-input-17-a7d05f0e05d6>\u001b[0m in \u001b[0;36m<module>\u001b[0;34m()\u001b[0m\n\u001b[1;32m      1\u001b[0m \u001b[0;31m# Run for up to 300 generations.\u001b[0m\u001b[0;34m\u001b[0m\u001b[0;34m\u001b[0m\u001b[0m\n\u001b[0;32m----> 2\u001b[0;31m \u001b[0mbest_genome\u001b[0m \u001b[0;34m=\u001b[0m \u001b[0mp\u001b[0m\u001b[0;34m.\u001b[0m\u001b[0mrun\u001b[0m\u001b[0;34m(\u001b[0m\u001b[0meval_genomes\u001b[0m\u001b[0;34m,\u001b[0m \u001b[0;36m300\u001b[0m\u001b[0;34m)\u001b[0m\u001b[0;34m\u001b[0m\u001b[0m\n\u001b[0m\u001b[1;32m      3\u001b[0m \u001b[0mprint\u001b[0m\u001b[0;34m(\u001b[0m\u001b[0mtype\u001b[0m\u001b[0;34m(\u001b[0m\u001b[0mbest_genome\u001b[0m\u001b[0;34m)\u001b[0m\u001b[0;34m)\u001b[0m\u001b[0;34m\u001b[0m\u001b[0m\n",
      "\u001b[0;31mNameError\u001b[0m: name 'eval_genomes' is not defined"
     ]
    }
   ],
   "source": [
    "# Run for up to 300 generations.\n",
    "best_genome = p.run(eval_genomes, 300)\n",
    "print(type(best_genome))"
   ]
  },
  {
   "cell_type": "code",
   "execution_count": 19,
   "id": "1b648c40",
   "metadata": {},
   "outputs": [
    {
     "name": "stdout",
     "output_type": "stream",
     "text": [
      "\n",
      "Best genome:\n",
      "Key: 8982\n",
      "Fitness: 15.6522167942852\n",
      "Nodes:\n",
      "\t0 DefaultNodeGene(key=0, bias=-0.9093843855586577, response=1.0, activation=sigmoid, aggregation=sum)\n",
      "\t1011 DefaultNodeGene(key=1011, bias=-1.8190846212923804, response=1.0, activation=sigmoid, aggregation=sum)\n",
      "\t1521 DefaultNodeGene(key=1521, bias=-1.080282397236218, response=1.0, activation=sigmoid, aggregation=sum)\n",
      "Connections:\n",
      "\tDefaultConnectionGene(key=(-2, 0), weight=-2.4840053630094694, enabled=True)\n",
      "\tDefaultConnectionGene(key=(-2, 1011), weight=2.7765611815684395, enabled=True)\n",
      "\tDefaultConnectionGene(key=(-2, 1521), weight=-0.02613607148710209, enabled=True)\n",
      "\tDefaultConnectionGene(key=(-1, 0), weight=1.5847680499351735, enabled=True)\n",
      "\tDefaultConnectionGene(key=(-1, 1011), weight=-0.44055113171912663, enabled=False)\n",
      "\tDefaultConnectionGene(key=(-1, 1521), weight=1.187616432186448, enabled=True)\n",
      "\tDefaultConnectionGene(key=(1011, 0), weight=11.883832694203981, enabled=True)\n",
      "\tDefaultConnectionGene(key=(1521, 1011), weight=-3.637066245750132, enabled=True)\n",
      "\n",
      "Output:\n",
      "input (0.0, 0.0), expected output (0.0,), got [0.010552544365589278]\n",
      "input (0.0, 1.0), expected output (1.0,), got [1.0]\n",
      "input (1.0, 0.0), expected output (1.0,), got [0.9669753384869211]\n",
      "input (1.0, 1.0), expected output (0.0,), got [0.00013453436507352809]\n"
     ]
    }
   ],
   "source": [
    "# Display the best genome among generations.\n",
    "print('\\nBest genome:\\n{!s}'.format(best_genome))\n",
    "\n",
    "# Show output of the most fit genome against training data.\n",
    "print('\\nOutput:')\n",
    "net = neat.nn.FeedForwardNetwork.create(best_genome, config)\n",
    "for xi, xo in zip(xor_inputs, xor_outputs):\n",
    "    output = net.activate(xi)\n",
    "    print(\"input {!r}, expected output {!r}, got {!r}\".format(xi, xo, output))"
   ]
  },
  {
   "cell_type": "code",
   "execution_count": null,
   "id": "937c63a7",
   "metadata": {},
   "outputs": [],
   "source": []
  }
 ],
 "metadata": {
  "kernelspec": {
   "display_name": "Python 3 (ipykernel)",
   "language": "python",
   "name": "python3"
  },
  "language_info": {
   "codemirror_mode": {
    "name": "ipython",
    "version": 3
   },
   "file_extension": ".py",
   "mimetype": "text/x-python",
   "name": "python",
   "nbconvert_exporter": "python",
   "pygments_lexer": "ipython3",
   "version": "3.8.1"
  }
 },
 "nbformat": 4,
 "nbformat_minor": 5
}
